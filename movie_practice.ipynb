{
 "cells": [
  {
   "cell_type": "markdown",
   "id": "6b8aa8a0",
   "metadata": {},
   "source": [
    "### 任务一.数据加载与基本探查（pandas）"
   ]
  },
  {
   "cell_type": "markdown",
   "id": "76817313",
   "metadata": {},
   "source": [
    "#### 1.1使用 pandas 读取给定的 IMDB-Movie-Data.csv 文件，并将其存储为一个名为 df 的 DataFrame。"
   ]
  },
  {
   "cell_type": "markdown",
   "id": "133f53d6",
   "metadata": {},
   "source": [
    "#### 1.2 查看数据的基本信息，包括列名、非空值数量和数据类型。"
   ]
  },
  {
   "cell_type": "markdown",
   "id": "d5a3f75e",
   "metadata": {},
   "source": [
    "#### 1.3 统计每列的缺失值数量。"
   ]
  },
  {
   "cell_type": "markdown",
   "id": "3f101a8a",
   "metadata": {},
   "source": [
    "#### 1.4 查看数据集包含的电影数量和电影信息的列数。"
   ]
  },
  {
   "cell_type": "markdown",
   "id": "761b6bb0",
   "metadata": {},
   "source": [
    "### 任务二：数据处理（numpy与pandas结合）"
   ]
  },
  {
   "cell_type": "markdown",
   "id": "b2fa650b",
   "metadata": {},
   "source": [
    "#### 2.1 从 Genre 列中提取出所有不同的电影类型，并统计每种电影类型出现的次数。（提示：Genre 列中电影类型以逗号分隔）"
   ]
  },
  {
   "cell_type": "markdown",
   "id": "1e35ab65",
   "metadata": {},
   "source": [
    "#### 2.2 并统计每种电影类型出现的次数"
   ]
  },
  {
   "cell_type": "markdown",
   "id": "93872f58",
   "metadata": {},
   "source": [
    "#### 2.3计算不同年份电影的平均评分，并找出平均评分最高的年份。（结果保留两位小数）"
   ]
  },
  {
   "cell_type": "markdown",
   "id": "42d37230",
   "metadata": {},
   "source": [
    "### 任务三：数据可视化（matplotlib）"
   ]
  },
  {
   "cell_type": "markdown",
   "id": "a3456cb5",
   "metadata": {},
   "source": [
    "#### 3.1 使用 matplotlib 绘制电影评分（Rating）的直方图。要求设置图表标题为 'Distribution of Movie Ratings'，x 轴标签为 'Rating'，y 轴标签为 'Frequency'。"
   ]
  },
  {
   "cell_type": "markdown",
   "id": "b1cbead2",
   "metadata": {},
   "source": [
    "#### 3.2 绘制不同年份电影数量的柱状图。要求设置图表标题为 'Number of Movies per Year'，x 轴标签为 'Year'，y 轴标签为 'Number of Movies'，并将 x 轴刻度旋转 45 度。"
   ]
  },
  {
   "cell_type": "markdown",
   "id": "bf71bc05",
   "metadata": {},
   "source": [
    "#### 3.3 从数据中选取评分最高的前 10 部电影，绘制它们的评分和票房收入（Revenue (Millions)）的散点图。要求设置图表标题为 'Rating vs Revenue for Top 10 Rated Movies'，x 轴标签为 'Rating'，y 轴标签为 'Revenue (Millions)'。"
   ]
  }
 ],
 "metadata": {
  "kernelspec": {
   "display_name": "Python 3",
   "language": "python",
   "name": "python3"
  },
  "language_info": {
   "codemirror_mode": {
    "name": "ipython",
    "version": 3
   },
   "file_extension": ".py",
   "mimetype": "text/x-python",
   "name": "python",
   "nbconvert_exporter": "python",
   "pygments_lexer": "ipython3",
   "version": "3.8.8"
  }
 },
 "nbformat": 4,
 "nbformat_minor": 5
}
